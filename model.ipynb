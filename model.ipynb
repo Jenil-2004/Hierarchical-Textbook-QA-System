{
 "cells": [
  {
   "cell_type": "code",
   "execution_count": 2,
   "metadata": {},
   "outputs": [
    {
     "name": "stdout",
     "output_type": "stream",
     "text": [
      "Extracted and saved text from The-Discovery-Of-India-Jawaharlal-Nehru (1).pdf to The-Discovery-Of-India-Jawaharlal-Nehru (1).txt\n"
     ]
    }
   ],
   "source": [
    "import os\n",
    "from pdfminer.high_level import extract_text\n",
    "\n",
    "def extract_text_from_pdf(pdf_path):\n",
    "    try:\n",
    "        return extract_text(pdf_path)\n",
    "    except FileNotFoundError as e:\n",
    "        print(f\"File not found: {pdf_path}\")\n",
    "        raise e\n",
    "\n",
    "def save_text_to_file(text, output_path):\n",
    "    with open(output_path, 'w', encoding='utf-8') as file:\n",
    "        file.write(text)\n",
    "\n",
    "# Specify the correct path to your PDF file\n",
    "pdf_file = \"The-Discovery-Of-India-Jawaharlal-Nehru (1).pdf\"\n",
    "output_file = \"The-Discovery-Of-India-Jawaharlal-Nehru (1).txt\"\n",
    "\n",
    "if not os.path.exists(pdf_file):\n",
    "    print(f\"PDF file does not exist: {pdf_file}\")\n",
    "else:\n",
    "    text = extract_text_from_pdf(pdf_file)\n",
    "    save_text_to_file(text, output_file)\n",
    "    print(f\"Extracted and saved text from {pdf_file} to {output_file}\")\n"
   ]
  },
  {
   "cell_type": "code",
   "execution_count": 3,
   "metadata": {},
   "outputs": [],
   "source": [
    "class TreeNode:\n",
    "    def __init__(self, identifier, content=None):\n",
    "        self.identifier = identifier\n",
    "        self.content = content\n",
    "        self.children = []\n",
    "\n",
    "    def add_child(self, node):\n",
    "        self.children.append(node)\n",
    "\n",
    "class HierarchicalTree:\n",
    "    def __init__(self, root_content):\n",
    "        self.root = TreeNode(\"root\", root_content)\n",
    "\n",
    "    def add_node(self, parent_id, identifier, content):\n",
    "        parent_node = self.find_node(self.root, parent_id)\n",
    "        if parent_node:\n",
    "            new_node = TreeNode(identifier, content)\n",
    "            parent_node.add_child(new_node)\n",
    "\n",
    "    def find_node(self, current_node, identifier):\n",
    "        if current_node.identifier == identifier:\n",
    "            return current_node\n",
    "        for child in current_node.children:\n",
    "            result = self.find_node(child, identifier)\n",
    "            if result:\n",
    "                return result\n",
    "        return None\n",
    "\n",
    "\n",
    "\n",
    "\n"
   ]
  },
  {
   "cell_type": "code",
   "execution_count": 4,
   "metadata": {},
   "outputs": [],
   "source": [
    "def build_tree_from_text(text):\n",
    "    tree = HierarchicalTree(\"Textbook Root\")\n",
    "    chapters = text.split(\"Chapter \")\n",
    "    for i, chapter in enumerate(chapters[1:], 1):\n",
    "        chapter_id = f\"Chapter_{i}\"\n",
    "        tree.add_node(\"root\", chapter_id, f\"Chapter {chapter_id} content\")\n",
    "        sections = chapter.split(\"Section \")\n",
    "        for j, section in enumerate(sections[1:], 1):\n",
    "            section_id = f\"{chapter_id}_Section_{j}\"\n",
    "            tree.add_node(chapter_id, section_id, f\"Section {section_id} content\")\n",
    "    return tree"
   ]
  },
  {
   "cell_type": "code",
   "execution_count": 5,
   "metadata": {},
   "outputs": [],
   "source": [
    "# Example usage:\n",
    "with open(\"The-Discovery-Of-India-Jawaharlal-Nehru (1).txt\", \"r\", encoding=\"utf-8\") as file:\n",
    "    text = file.read()\n",
    "\n",
    "tree = build_tree_from_text(text)\n",
    "\n"
   ]
  },
  {
   "cell_type": "code",
   "execution_count": 6,
   "metadata": {},
   "outputs": [],
   "source": [
    "from nltk.corpus import wordnet\n",
    "from transformers import AutoTokenizer, AutoModel\n",
    "\n",
    "\n",
    "tokenizer = AutoTokenizer.from_pretrained(\"bert-base-uncased\")\n",
    "model = AutoModel.from_pretrained(\"bert-base-uncased\")\n",
    "\n",
    "\n"
   ]
  },
  {
   "cell_type": "code",
   "execution_count": 7,
   "metadata": {},
   "outputs": [],
   "source": [
    "import numpy as np\n",
    "def expand_query(query):\n",
    "    synonyms = set()\n",
    "    for word in query.split():\n",
    "        for syn in wordnet.synsets(word):\n",
    "            for lemma in syn.lemmas():\n",
    "                synonyms.add(lemma.name())\n",
    "    return list(synonyms)\n",
    "\n",
    "def embed_text(text):\n",
    "    inputs = tokenizer(text, return_tensors=\"pt\", truncation=True, padding=True)\n",
    "    outputs = model(**inputs)\n",
    "    return outputs.last_hidden_state.mean(dim=1).detach().numpy()"
   ]
  },
  {
   "cell_type": "code",
   "execution_count": 26,
   "metadata": {},
   "outputs": [
    {
     "name": "stderr",
     "output_type": "stream",
     "text": [
      "No model was supplied, defaulted to distilbert/distilbert-base-cased-distilled-squad and revision 626af31 (https://huggingface.co/distilbert/distilbert-base-cased-distilled-squad).\n",
      "Using a pipeline without specifying a model name and revision in production is not recommended.\n"
     ]
    }
   ],
   "source": [
    "from transformers import pipeline\n",
    "from rank_bm25 import BM25Okapi\n",
    "import numpy as np\n",
    "\n",
    "# Initialize a transformer model for question answering\n",
    "qa_pipeline = pipeline(\"question-answering\")\n",
    "\n",
    "# Example documents\n",
    "documents = [\n",
    "    \"The Indian independence movement was a series of historic events with the ultimate aim of ending British rule in India.\",\n",
    "    \"The movement began in the 1850s with the first major uprising against British authority.\"\n",
    "]\n",
    "\n",
    "# Initialize BM25\n",
    "def initialize_bm25(docs):\n",
    "    tokenized_docs = [doc.split() for doc in docs]\n",
    "    bm25 = BM25Okapi(tokenized_docs)\n",
    "    return bm25\n",
    "\n",
    "def retrieve_docs(query, bm25, docs):\n",
    "    tokenized_query = query.split()\n",
    "    scores = bm25.get_scores(tokenized_query)\n",
    "    ranked_indices = np.argsort(scores)[::-1]\n",
    "    return [docs[i] for i in ranked_indices]\n",
    "\n",
    "def answer_question(query, retrieved_docs):\n",
    "    answers = []\n",
    "    for doc in retrieved_docs:\n",
    "        result = qa_pipeline(question=query, context=doc)\n",
    "        answers.append(result['answer'])\n",
    "    return ' '.join(answers)\n",
    "\n",
    "\n",
    "bm25 = initialize_bm25(documents)\n",
    "query = \"What major thing is done in 1850\"\n",
    "retrieved_docs = retrieve_docs(query, bm25, documents)\n",
    "answer = answer_question(query, retrieved_docs)\n",
    "print(answer)\n"
   ]
  },
  {
   "cell_type": "code",
   "execution_count": 31,
   "metadata": {},
   "outputs": [
    {
     "name": "stderr",
     "output_type": "stream",
     "text": [
      "Some non-default generation parameters are set in the model config. These should go into a GenerationConfig file (https://huggingface.co/docs/transformers/generation_strategies#save-a-custom-decoding-strategy-with-your-model) instead. This warning will be raised to an exception in v4.41.\n",
      "Non-default generation parameters: {'max_length': 50, 'min_length': 1, 'num_beams': 4, 'bad_words_ids': [[0, 0]], 'forced_eos_token_id': 2}\n"
     ]
    }
   ],
   "source": [
    "# Example usage\n",
    "from transformers import RagTokenizer, RagSequenceForGeneration\n",
    "\n",
    "# Save the model and tokenizer\n",
    "rag_tokenizer.save_pretrained(\"./rag_tokenizer\")\n",
    "rag_model.save_pretrained(\"./rag_model\")\n"
   ]
  },
  {
   "cell_type": "code",
   "execution_count": 20,
   "metadata": {},
   "outputs": [
    {
     "name": "stderr",
     "output_type": "stream",
     "text": [
      "No model was supplied, defaulted to distilbert/distilbert-base-cased-distilled-squad and revision 626af31 (https://huggingface.co/distilbert/distilbert-base-cased-distilled-squad).\n",
      "Using a pipeline without specifying a model name and revision in production is not recommended.\n",
      "2024-07-21 14:58:18.594 \n",
      "  \u001b[33m\u001b[1mWarning:\u001b[0m to view this Streamlit app on a browser, run it with the following\n",
      "  command:\n",
      "\n",
      "    streamlit run c:\\Python37\\Lib\\site-packages\\ipykernel_launcher.py [ARGUMENTS]\n"
     ]
    }
   ],
   "source": [
    "import streamlit as st\n",
    "from transformers import pipeline\n",
    "from rank_bm25 import BM25Okapi\n",
    "import numpy as np\n",
    "\n",
    "# Initialize BM25 and QA pipeline\n",
    "def initialize_bm25(docs):\n",
    "    tokenized_docs = [doc.split() for doc in docs]\n",
    "    return BM25Okapi(tokenized_docs)\n",
    "\n",
    "def retrieve_docs(query, bm25, docs):\n",
    "    tokenized_query = query.split()\n",
    "    scores = bm25.get_scores(tokenized_query)\n",
    "    ranked_indices = np.argsort(scores)[::-1]\n",
    "    return [docs[i] for i in ranked_indices]\n",
    "\n",
    "qa_pipeline = pipeline(\"question-answering\")\n",
    "\n",
    "def answer_question(query, retrieved_docs):\n",
    "    answers = []\n",
    "    for doc in retrieved_docs:\n",
    "        result = qa_pipeline(question=query, context=doc)\n",
    "        answers.append(result['answer'])\n",
    "    return ' '.join(answers)\n",
    "\n",
    "# Streamlit UI\n",
    "def main():\n",
    "    st.title(\"Textbook Content Search and Q&A\")\n",
    "\n",
    "    # Input from user\n",
    "    query = st.text_input(\"Enter your query:\")\n",
    "\n",
    "    if st.button(\"Get Answer\"):\n",
    "        if query:\n",
    "            documents = [\n",
    "                \"The Indian independence movement was a series of historic events with the ultimate aim of ending British rule in India.\",\n",
    "                \"The movement began in the 1850s with the first major uprising against British authority.\"\n",
    "            ]\n",
    "\n",
    "            # Process query\n",
    "            bm25 = initialize_bm25(documents)\n",
    "            retrieved_docs = retrieve_docs(query, bm25, documents)\n",
    "            answer = answer_question(query, retrieved_docs)\n",
    "\n",
    "            # Display results\n",
    "            st.write(\"**Retrieved Documents:**\")\n",
    "            for doc in retrieved_docs:\n",
    "                st.write(f\"- {doc}\")\n",
    "\n",
    "            st.write(\"**Answer:**\")\n",
    "            st.write(answer)\n",
    "        else:\n",
    "            st.write(\"Please enter a query.\")\n",
    "\n",
    "if __name__ == \"__main__\":\n",
    "    main()\n"
   ]
  }
 ],
 "metadata": {
  "kernelspec": {
   "display_name": "Python 3",
   "language": "python",
   "name": "python3"
  },
  "language_info": {
   "codemirror_mode": {
    "name": "ipython",
    "version": 3
   },
   "file_extension": ".py",
   "mimetype": "text/x-python",
   "name": "python",
   "nbconvert_exporter": "python",
   "pygments_lexer": "ipython3",
   "version": "3.11.5"
  }
 },
 "nbformat": 4,
 "nbformat_minor": 2
}
